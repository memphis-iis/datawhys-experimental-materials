{
 "cells": [
  {
   "cell_type": "markdown",
   "metadata": {
    "deletable": false,
    "editable": false
   },
   "source": [
    "[Click here to open the worked example](we-co-gl.ipynb)"
   ]
  },
  {
   "cell_type": "markdown",
   "metadata": {
    "deletable": false,
    "editable": false
   },
   "source": [
    "Copyright 2020 Andrew M. Olney and made available under [CC BY-SA](https://creativecommons.org/licenses/by-sa/4.0) for text and [Apache-2.0](http://www.apache.org/licenses/LICENSE-2.0) for code."
   ]
  },
  {
   "cell_type": "markdown",
   "metadata": {},
   "source": [
    "## Background\n",
    "\n",
    "We will be working with data on the effect of vitamin C supplements on guinea pig tooth growth. The data has three variables:\n",
    "\n",
    "- `len`: tooth length in millimeters\n",
    "- `supp`: vitamin C source, either VC or OJ\n",
    "- `dose`: dose in milligrams/day, either 0.5, 1, or 2\n",
    "\n",
    "In this session, you will solve several problems using this data."
   ]
  },
  {
   "cell_type": "markdown",
   "metadata": {},
   "source": [
    "### Read CSV into a dataframe"
   ]
  },
  {
   "cell_type": "markdown",
   "metadata": {},
   "source": [
    "Import the `pandas` library, which lets us work with dataframes."
   ]
  },
  {
   "cell_type": "code",
   "execution_count": null,
   "metadata": {},
   "outputs": [
    {
     "data": {
      "text/html": [
       "<p>Explain the code/output for this cell.</p><div style='display:inline-block;vertical-align: top;'><textarea id='self-explanatione0863b6d-6e44-4785-a7f6-e592fdef8f17' cols='60' rows='2' style='color:Tomato;'onkeyup=\"(function(e){handleKey(e,'e0863b6d-6e44-4785-a7f6-e592fdef8f17');})(this)\"></textarea></div><div style='display:inline-block;vertical-align: top;'><button onclick=\"document.getElementById('self-explanatione0863b6d-6e44-4785-a7f6-e592fdef8f17').style.color = 'black';logSelfExplanation(document.getElementById('self-explanatione0863b6d-6e44-4785-a7f6-e592fdef8f17').value,'e0863b6d-6e44-4785-a7f6-e592fdef8f17')\">Save</button></div>"
      ]
     },
     "metadata": {},
     "output_type": "display_data"
    }
   ],
   "source": []
  },
  {
   "cell_type": "markdown",
   "metadata": {},
   "source": [
    "Load a dataframe with the data in \"datasets/toothgrowth.csv\" and display it."
   ]
  },
  {
   "cell_type": "code",
   "execution_count": null,
   "metadata": {},
   "outputs": [
    {
     "data": {
      "text/html": [
       "<p>Explain the code/output for this cell.</p><div style='display:inline-block;vertical-align: top;'><textarea id='self-explanationbdcf2a04-dc8a-4e55-a1ef-176d678f703d' cols='60' rows='2' style='color:Tomato;'onkeyup=\"(function(e){handleKey(e,'bdcf2a04-dc8a-4e55-a1ef-176d678f703d');})(this)\"></textarea></div><div style='display:inline-block;vertical-align: top;'><button onclick=\"document.getElementById('self-explanationbdcf2a04-dc8a-4e55-a1ef-176d678f703d').style.color = 'black';logSelfExplanation(document.getElementById('self-explanationbdcf2a04-dc8a-4e55-a1ef-176d678f703d').value,'bdcf2a04-dc8a-4e55-a1ef-176d678f703d')\">Save</button></div>"
      ]
     },
     "metadata": {},
     "output_type": "display_data"
    }
   ],
   "source": []
  },
  {
   "cell_type": "markdown",
   "metadata": {},
   "source": [
    "### Select rows from a dataframe by position"
   ]
  },
  {
   "cell_type": "markdown",
   "metadata": {},
   "source": [
    "Show the first 4 rows of the data."
   ]
  },
  {
   "cell_type": "code",
   "execution_count": null,
   "metadata": {},
   "outputs": [
    {
     "data": {
      "text/html": [
       "<p>Explain the code/output for this cell.</p><div style='display:inline-block;vertical-align: top;'><textarea id='self-explanationba3f1e88-f884-4f67-aa67-50b7576f6418' cols='60' rows='2' style='color:Tomato;'onkeyup=\"(function(e){handleKey(e,'ba3f1e88-f884-4f67-aa67-50b7576f6418');})(this)\"></textarea></div><div style='display:inline-block;vertical-align: top;'><button onclick=\"document.getElementById('self-explanationba3f1e88-f884-4f67-aa67-50b7576f6418').style.color = 'black';logSelfExplanation(document.getElementById('self-explanationba3f1e88-f884-4f67-aa67-50b7576f6418').value,'ba3f1e88-f884-4f67-aa67-50b7576f6418')\">Save</button></div>"
      ]
     },
     "metadata": {},
     "output_type": "display_data"
    }
   ],
   "source": []
  },
  {
   "cell_type": "markdown",
   "metadata": {},
   "source": [
    "### Select columns from a dataframe by name"
   ]
  },
  {
   "cell_type": "markdown",
   "metadata": {},
   "source": [
    "Show the middle column of the data."
   ]
  },
  {
   "cell_type": "code",
   "execution_count": null,
   "metadata": {},
   "outputs": [
    {
     "data": {
      "text/html": [
       "<p>Explain the code/output for this cell.</p><div style='display:inline-block;vertical-align: top;'><textarea id='self-explanationcc419549-3f2c-4e7f-9a76-3f22e184c242' cols='60' rows='2' style='color:Tomato;'onkeyup=\"(function(e){handleKey(e,'cc419549-3f2c-4e7f-9a76-3f22e184c242');})(this)\"></textarea></div><div style='display:inline-block;vertical-align: top;'><button onclick=\"document.getElementById('self-explanationcc419549-3f2c-4e7f-9a76-3f22e184c242').style.color = 'black';logSelfExplanation(document.getElementById('self-explanationcc419549-3f2c-4e7f-9a76-3f22e184c242').value,'cc419549-3f2c-4e7f-9a76-3f22e184c242')\">Save</button></div>"
      ]
     },
     "metadata": {},
     "output_type": "display_data"
    }
   ],
   "source": []
  },
  {
   "cell_type": "markdown",
   "metadata": {},
   "source": [
    "### Select rows from a dataframe by value"
   ]
  },
  {
   "cell_type": "markdown",
   "metadata": {},
   "source": [
    "Show the rows where `dose` is more than .5."
   ]
  },
  {
   "cell_type": "code",
   "execution_count": null,
   "metadata": {},
   "outputs": [
    {
     "data": {
      "text/html": [
       "<p>Explain the code/output for this cell.</p><div style='display:inline-block;vertical-align: top;'><textarea id='self-explanationd1cbecc1-7a6d-49c9-9419-1436917f8ee4' cols='60' rows='2' style='color:Tomato;'onkeyup=\"(function(e){handleKey(e,'d1cbecc1-7a6d-49c9-9419-1436917f8ee4');})(this)\"></textarea></div><div style='display:inline-block;vertical-align: top;'><button onclick=\"document.getElementById('self-explanationd1cbecc1-7a6d-49c9-9419-1436917f8ee4').style.color = 'black';logSelfExplanation(document.getElementById('self-explanationd1cbecc1-7a6d-49c9-9419-1436917f8ee4').value,'d1cbecc1-7a6d-49c9-9419-1436917f8ee4')\">Save</button></div>"
      ]
     },
     "metadata": {},
     "output_type": "display_data"
    }
   ],
   "source": []
  },
  {
   "cell_type": "markdown",
   "metadata": {},
   "source": [
    "<!--  -->"
   ]
  }
 ],
 "metadata": {
  "kernelspec": {
   "display_name": "xpython",
   "language": "python",
   "name": "xpython"
  },
  "language_info": {
   "file_extension": ".py",
   "mimetype": "text/x-python",
   "name": "python",
   "version": "3.7.6"
  }
 },
 "nbformat": 4,
 "nbformat_minor": 4
}
