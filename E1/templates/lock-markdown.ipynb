{
 "cells": [
  {
   "cell_type": "markdown",
   "metadata": {},
   "source": [
    "# Lock markdown\n",
    "\n",
    "This notebook programmatically makes all markdown non-editable and non-deletable"
   ]
  },
  {
   "cell_type": "code",
   "execution_count": 5,
   "metadata": {},
   "outputs": [
    {
     "name": "stdout",
     "output_type": "stream",
     "text": [
      "ps-near2-gl.ipynb\n",
      "ps-near1-gl.ipynb\n",
      "ps-far-gl.ipynb\n",
      "ps-far-na.ipynb\n",
      "ps-farplus-na.ipynb\n",
      "ps-near2-na.ipynb\n",
      "we-co-gl.ipynb\n",
      "ps-near1-na.ipynb\n",
      "we-co-na.ipynb\n",
      "ps-farplus-gl.ipynb\n",
      "we-bl-na.ipynb\n",
      "we-bl-gl.ipynb\n"
     ]
    }
   ],
   "source": [
    "import os\n",
    "import nbformat as nbf\n",
    "import pandas as pd\n",
    "\n",
    "\n",
    "for file in os.scandir(\".\"):\n",
    "    if file.name.endswith('-gl.ipynb') or file.name.endswith('-na.ipynb'):\n",
    "#                 print('.', end='')\n",
    "        print(file.name)\n",
    "        ntbk = nbf.read(file.path, nbf.NO_CONVERT)\n",
    "        # lock markdown cells\n",
    "        for cell in ntbk.cells:\n",
    "            if cell.cell_type == \"markdown\":\n",
    "#                         current = cell.metadata\n",
    "                cell.metadata['deletable'] = False\n",
    "                cell.metadata['editable'] = False\n",
    "                # add border to videos in markdown cells (if needed)\n",
    "                if \"html\" in cell.metadata:\n",
    "#                     print(\"checking video metadata\")\n",
    "                    if \"style\" not in cell.metadata[\"html\"]:\n",
    "                        cell.metadata[\"html\"] = cell.metadata[\"html\"].replace(\"<video class='metadata-html'\", \"<video style='border: 5px solid black;' class='metadata-html'\")\n",
    "                \n",
    "        # write out new file\n",
    "        nbf.write(ntbk, file.name)\n",
    "            "
   ]
  },
  {
   "cell_type": "code",
   "execution_count": null,
   "metadata": {},
   "outputs": [],
   "source": []
  }
 ],
 "metadata": {
  "kernelspec": {
   "display_name": "Python 3",
   "language": "python",
   "name": "python3"
  },
  "language_info": {
   "codemirror_mode": {
    "name": "ipython",
    "version": 3
   },
   "file_extension": ".py",
   "mimetype": "text/x-python",
   "name": "python",
   "nbconvert_exporter": "python",
   "pygments_lexer": "ipython3",
   "version": "3.7.10"
  }
 },
 "nbformat": 4,
 "nbformat_minor": 4
}
