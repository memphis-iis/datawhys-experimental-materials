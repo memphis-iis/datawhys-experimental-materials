{
 "cells": [
  {
   "cell_type": "markdown",
   "metadata": {
    "deletable": false,
    "editable": false
   },
   "source": [
    "Copyright 2020 Andrew M. Olney and made available under [CC BY-SA](https://creativecommons.org/licenses/by-sa/4.0) for text and [Apache-2.0](http://www.apache.org/licenses/LICENSE-2.0) for code."
   ]
  },
  {
   "cell_type": "markdown",
   "metadata": {},
   "source": [
    "# Data Science and the Nature of Data"
   ]
  },
  {
   "cell_type": "markdown",
   "metadata": {},
   "source": [
    "## Types of variables\n",
    "\n",
    "Structured data begins with **measurements** of some type of thing in the real world, which we call a **variable**.\n",
    "Consider the example of height. \n",
    "I may measure 10 people and find that their heights in centimeters are:\n",
    "\n",
    "| Height |\n",
    "|--------|\n",
    "| 165    |\n",
    "| 188    |\n",
    "| 153    |\n",
    "| 164    |\n",
    "| 150    |\n",
    "| 190    |\n",
    "| 169    |\n",
    "| 163    |\n",
    "| 165    |\n",
    "| 190    |\n",
    "\n",
    "Each of these values (e.g. 165) is a measurement of the variable *height*.\n",
    "We call *height* a variable because its value isn't constant.\n",
    "If everyone in the world were the same height, we wouldn't call height a variable, and we also wouldn't bother measuring it, because we'd know everyone is the same.\n",
    "\n",
    "Variables have different **types** that can affect your analysis.\n",
    "\n",
    "### Nominal\n",
    "\n",
    "A nominal variable consists of unordered categories, like *male* or *female* for biological sex.\n",
    "Notice that these categories are not numbers, and there is no order to the categories.\n",
    "We do not say that male comes before female or is smaller than female.\n",
    "\n",
    "### Ordinal\n",
    "\n",
    "Ordinal variables consist of ordered categories.\n",
    "You can think of it as nominal data but with an ordering from first to last or smallest to largest.\n",
    "A common example of ordinal data are Likert questions like:\n",
    "\n",
    "```\n",
    "(1) Strongly disagree\n",
    "(2) Disagree\n",
    "(3) Neither agree nor disagree\n",
    "(4) Agree\n",
    "(5) Strongly agree\n",
    "```\n",
    "\n",
    "Even though these options are numbered 1 to 5, those numbers only indicate which comes before the others, not how \"big\" an option is.\n",
    "For example, we wouldn't say that the difference between *Agree*  and *Disagree* is the same as the difference between *Neither agree nor disagree* and *Strongly agree*.\n",
    "\n",
    "### Interval\n",
    "\n",
    "Interval variables are ordered *and* their measurement scales are evenly spaced.\n",
    "A classic example is temperature in Fahrenheit.\n",
    "In degrees Fahrenheit, the difference between 70 and 71 is the same as the difference between 90 and 91 - either case is one degree.\n",
    "The other most important characteristic of interval variables is also the most confusing one, which is that interval variables don't have a meaningful zero value.\n",
    "Degrees Fahrenheit is an example of this because there's nothing special about 0 degrees. \n",
    "0 degrees doesn't mean there's no temperature or no heat energy, it's just an arbitrary point on the scale.\n",
    "\n",
    "### Ratio\n",
    "\n",
    "Ratio variables are like interval variables but with meaningful zeros.\n",
    "Age and height are good examples because 0 age means you have no age, and 0 height means you have no height.\n",
    "The name *ratio* reflects that you can form a ratio with these variables, which means that you can say age 20 is twice as old as age 10.\n",
    "Notice you can't say that about degrees Fahrenheit: 100 degrees is not really twice as hot as 50 degrees, because 0 degrees Fahrenheit doesn't mean \"no temperature.\""
   ]
  },
  {
   "cell_type": "markdown",
   "metadata": {},
   "source": [
    "## Tabular data\n",
    "\n",
    "The most common type of structured data is **tabular data** which is what you find in spreadsheets.\n",
    "If you've ever used a spreadsheet, you know something about tabular data!\n",
    "\n",
    "Here's an example of tabular data, with *height* in centimeters, *age* in years, and *weight* in kilograms:\n",
    "\n",
    "| Height | Age | Weight |\n",
    "|--------|-----|--------|\n",
    "| 161    | 50  | 53     |\n",
    "| 161    | 17  | 53     |\n",
    "| 155    | 33  | 84     |\n",
    "| 180    | 51  | 84     |\n",
    "| 186    | 18  | 88     |\n",
    "\n",
    "In tabular data like this, each **row** is a person.\n",
    "More generically, we would say each row is an **observation** or **datapoint** (in statistics terminology) or an **item** (in machine learning terminology).\n",
    "In each row, we have measurements for each of our variables for that particular person.\n",
    "Since we have five rows of measurements, we know that there are five people in this dataset.\n",
    "\n",
    "We can also think about tabular data in terms of **columns**.\n",
    "Each column represents a variable, with the name of that variable in the **column header**.\n",
    "For example, *height* is at the top of the first column and is the name of the variable for that column.\n",
    "Importantly, the header is not an observation but rather a description of our data.\n",
    "This is why we don't count the header when we are counting the rows in our data.\n",
    "\n",
    "### Delimited tabular data - CSV and TSV\n",
    "\n",
    "You are probably familiar with spreadsheet files, e.g. Microsoft Excel has files that end in `.xls` or `.xlsx`.\n",
    "However, in data science, it is more common to have tabular data files that are **delimited**.\n",
    "A delimited file is just a plain text file where column boundaries are represented by a specific character, usually a comma or a tab.\n",
    "\n",
    "Here's what the data above looks like in **comma separated value (CSV)** form:\n",
    "\n",
    "```\n",
    "Height,Age,Weight\n",
    "161,50,53\n",
    "161,17,53\n",
    "155,33,84\n",
    "180,51,84\n",
    "186,18,88\n",
    "```\n",
    "\n",
    "and here's what the data looks like in **tab separated value (TSV)** form:\n",
    "\n",
    "```\n",
    "Height\tAge\tWeight\n",
    "161\t50\t53\n",
    "161\t17\t53\n",
    "155\t33\t84\n",
    "180\t51\t84\n",
    "186\t18\t88\n",
    "```\n",
    "\n",
    "The choice of the delimiter (comma, tab, or something else) is really arbitrary, but it's always better to use a delimiter that doesn't appear in your data.\n",
    "\n",
    "## Dataframes\n",
    "\n",
    "Data scientists often load tabular data into a **dataframe** that they can manipulate in a program.\n",
    "In other words, tabular data from a file is brought into the computational notebook in a variable that represents rows, columns, header, etc just like they are stored in the tabular data file.\n",
    "Because dataframes match tabular data in files, they are very intuitive to work with, which may explain their popularity.\n",
    "\n",
    "We're now at the practical portion of this notebook, so let's work with dataframes!"
   ]
  },
  {
   "cell_type": "markdown",
   "metadata": {},
   "source": [
    "<div class=\"alert alert-warning\">\n",
    "    \n",
    "**Condition alternative instructions: Goal structure labels**\n",
    "\n",
    "### Read CSV into a dataframe\n",
    "   \n",
    "</div>"
   ]
  },
  {
   "cell_type": "markdown",
   "metadata": {},
   "source": [
    "First, we need to import a dataframe library called `pandas`."
   ]
  },
  {
   "cell_type": "markdown",
   "metadata": {},
   "source": [
    "<div class=\"alert alert-info\">\n",
    "    \n",
    "**Condition alternative instructions**\n",
    "\n",
    "- Blocks\n",
    "    \n",
    "    Click here to see how to do this in Blockly (shows video or gif sequence)\n",
    "    \n",
    "- No blocks\n",
    "    \n",
    "    Type `import pandas as pd` into the cell below\n",
    " \n",
    "</div>"
   ]
  },
  {
   "cell_type": "markdown",
   "metadata": {},
   "source": [
    "Once the code is in that Jupyter cell, you must **execute** or **run** it by either pressing the &#9658; button at the top of the window or by pressing Shift + Enter on your keyboard."
   ]
  },
  {
   "cell_type": "code",
   "execution_count": 3,
   "metadata": {},
   "outputs": [],
   "source": [
    "import pandas as pd\n",
    "\n",
    "#<xml xmlns=\"https://developers.google.com/blockly/xml\"><variables><variable id=\"i!#]:2XI=^qLb$e.|iwo\">pd</variable></variables><block type=\"importAs\" id=\"*]+[97*lfc0xBExPyl{#\" x=\"73\" y=\"63\"><field name=\"libraryName\">pandas</field><field name=\"libraryAlias\" id=\"i!#]:2XI=^qLb$e.|iwo\">pd</field></block></xml>"
   ]
  },
  {
   "cell_type": "markdown",
   "metadata": {},
   "source": [
    "<div class=\"alert alert-danger\">\n",
    "    \n",
    "**Condition alternative instructions: Self-explanation**\n",
    "\n",
    "Click here to see a self-explanation (plays video or audio clip going through each token in code: what is it and what does it do)\n",
    "    \n",
    "</div>"
   ]
  },
  {
   "cell_type": "markdown",
   "metadata": {},
   "source": [
    "We can now do things with `pd`, like load datasets!\n",
    "\n",
    "Our file is called `height-age-weight.csv` and it is in the `datasets` folder.\n",
    "That means the **path** from this notebook (the one you're reading) to the data is `datasets/height-age-weight.csv`.\n",
    "\n",
    "To read this file into a dataframe, we will use `pd`. "
   ]
  },
  {
   "cell_type": "markdown",
   "metadata": {},
   "source": [
    "<div class=\"alert alert-info\">\n",
    "    \n",
    "**Condition alternative instructions**\n",
    "- Blocks\n",
    "    \n",
    "    Click here to see how to do this in Blockly (shows video or gif sequence)\n",
    "    \n",
    "- No blocks\n",
    "    \n",
    "    Type `pd.read_csv('datasets/height-age-weight.csv')` into the cell below\n",
    "    \n",
    "</div>"
   ]
  },
  {
   "cell_type": "markdown",
   "metadata": {},
   "source": [
    "Execute or run the cell by pressing the &#9658; button."
   ]
  },
  {
   "cell_type": "code",
   "execution_count": 5,
   "metadata": {},
   "outputs": [
    {
     "data": {
      "text/html": [
       "<div>\n",
       "<style scoped>\n",
       "    .dataframe tbody tr th:only-of-type {\n",
       "        vertical-align: middle;\n",
       "    }\n",
       "\n",
       "    .dataframe tbody tr th {\n",
       "        vertical-align: top;\n",
       "    }\n",
       "\n",
       "    .dataframe thead th {\n",
       "        text-align: right;\n",
       "    }\n",
       "</style>\n",
       "<table border=\"1\" class=\"dataframe\">\n",
       "  <thead>\n",
       "    <tr style=\"text-align: right;\">\n",
       "      <th></th>\n",
       "      <th>Height</th>\n",
       "      <th>Age</th>\n",
       "      <th>Weight</th>\n",
       "    </tr>\n",
       "  </thead>\n",
       "  <tbody>\n",
       "    <tr>\n",
       "      <th>0</th>\n",
       "      <td>161</td>\n",
       "      <td>50</td>\n",
       "      <td>53</td>\n",
       "    </tr>\n",
       "    <tr>\n",
       "      <th>1</th>\n",
       "      <td>161</td>\n",
       "      <td>17</td>\n",
       "      <td>53</td>\n",
       "    </tr>\n",
       "    <tr>\n",
       "      <th>2</th>\n",
       "      <td>155</td>\n",
       "      <td>33</td>\n",
       "      <td>84</td>\n",
       "    </tr>\n",
       "    <tr>\n",
       "      <th>3</th>\n",
       "      <td>180</td>\n",
       "      <td>51</td>\n",
       "      <td>84</td>\n",
       "    </tr>\n",
       "    <tr>\n",
       "      <th>4</th>\n",
       "      <td>186</td>\n",
       "      <td>18</td>\n",
       "      <td>88</td>\n",
       "    </tr>\n",
       "  </tbody>\n",
       "</table>\n",
       "</div>"
      ],
      "text/plain": [
       "   Height  Age  Weight\n",
       "0     161   50      53\n",
       "1     161   17      53\n",
       "2     155   33      84\n",
       "3     180   51      84\n",
       "4     186   18      88"
      ]
     },
     "execution_count": 5,
     "metadata": {},
     "output_type": "execute_result"
    }
   ],
   "source": [
    "pd.read_csv('datasets/height-age-weight.csv')\n",
    "\n",
    "#<xml xmlns=\"https://developers.google.com/blockly/xml\"><variables><variable id=\"i!#]:2XI=^qLb$e.|iwo\">pd</variable></variables><block type=\"varDoMethod\" id=\"h[BIiU^0[[vbD`zoBn6+\" x=\"8\" y=\"188\"><field name=\"VAR\" id=\"i!#]:2XI=^qLb$e.|iwo\">pd</field><field name=\"MEMBER\">read_csv</field><data>pd:read_csv</data><value name=\"INPUT\"><block type=\"text\" id=\"HyH?(x3/MuPXE`T5;)[@\"><field name=\"TEXT\">datasets/height-age-weight.csv</field></block></value></block></xml>"
   ]
  },
  {
   "cell_type": "markdown",
   "metadata": {},
   "source": [
    "When you run the cell, it will display the dataframe directly below it.\n",
    "This is one of the nice things about Jupyter - **it will display the output of the last line of code in a cell**, even if the output is text, a table, or a plot."
   ]
  },
  {
   "cell_type": "markdown",
   "metadata": {},
   "source": [
    "<div class=\"alert alert-danger\">\n",
    "    \n",
    "**Condition alternative instructions: Self-explanation**\n",
    "\n",
    "Click here to see a self-explanation (plays video or audio clip going through each token in code: what is it and what does it do)\n",
    "    \n",
    "</div>"
   ]
  },
  {
   "cell_type": "markdown",
   "metadata": {},
   "source": [
    "Right now, we haven't actually stored the dataframe anywhere.\n",
    "We used `pd` to read the csv file, and then Jupyter output that so we could see it.\n",
    "But if we wanted to do anything with the dataframe, we'd have to read the file again.\n",
    "\n",
    "Instead of reading the file every time we want to access the data, we can **store it in a variable**.\n",
    "In other words, we will create a variable and set it to be the dataframe we created from the file."
   ]
  },
  {
   "cell_type": "markdown",
   "metadata": {},
   "source": [
    "<div class=\"alert alert-info\">\n",
    "    \n",
    "**Condition alternative instructions**\n",
    "- Blocks\n",
    "    \n",
    "    Click here to see how to do this in Blockly (shows video or gif sequence)\n",
    "    \n",
    "- No blocks\n",
    "    \n",
    "    Type into the cell below:\n",
    "    \n",
    "    ```\n",
    "    dataframe = pd.read_csv('datasets/height-age-weight.csv')\n",
    "    dataframe\n",
    "    ```\n",
    "    \n",
    "</div>"
   ]
  },
  {
   "cell_type": "markdown",
   "metadata": {},
   "source": [
    "As always, you need to hit the &#9658; button or press Shift + Enter to run the code."
   ]
  },
  {
   "cell_type": "code",
   "execution_count": 6,
   "metadata": {},
   "outputs": [
    {
     "data": {
      "text/html": [
       "<div>\n",
       "<style scoped>\n",
       "    .dataframe tbody tr th:only-of-type {\n",
       "        vertical-align: middle;\n",
       "    }\n",
       "\n",
       "    .dataframe tbody tr th {\n",
       "        vertical-align: top;\n",
       "    }\n",
       "\n",
       "    .dataframe thead th {\n",
       "        text-align: right;\n",
       "    }\n",
       "</style>\n",
       "<table border=\"1\" class=\"dataframe\">\n",
       "  <thead>\n",
       "    <tr style=\"text-align: right;\">\n",
       "      <th></th>\n",
       "      <th>Height</th>\n",
       "      <th>Age</th>\n",
       "      <th>Weight</th>\n",
       "    </tr>\n",
       "  </thead>\n",
       "  <tbody>\n",
       "    <tr>\n",
       "      <th>0</th>\n",
       "      <td>161</td>\n",
       "      <td>50</td>\n",
       "      <td>53</td>\n",
       "    </tr>\n",
       "    <tr>\n",
       "      <th>1</th>\n",
       "      <td>161</td>\n",
       "      <td>17</td>\n",
       "      <td>53</td>\n",
       "    </tr>\n",
       "    <tr>\n",
       "      <th>2</th>\n",
       "      <td>155</td>\n",
       "      <td>33</td>\n",
       "      <td>84</td>\n",
       "    </tr>\n",
       "    <tr>\n",
       "      <th>3</th>\n",
       "      <td>180</td>\n",
       "      <td>51</td>\n",
       "      <td>84</td>\n",
       "    </tr>\n",
       "    <tr>\n",
       "      <th>4</th>\n",
       "      <td>186</td>\n",
       "      <td>18</td>\n",
       "      <td>88</td>\n",
       "    </tr>\n",
       "  </tbody>\n",
       "</table>\n",
       "</div>"
      ],
      "text/plain": [
       "   Height  Age  Weight\n",
       "0     161   50      53\n",
       "1     161   17      53\n",
       "2     155   33      84\n",
       "3     180   51      84\n",
       "4     186   18      88"
      ]
     },
     "execution_count": 6,
     "metadata": {},
     "output_type": "execute_result"
    }
   ],
   "source": [
    "dataframe = pd.read_csv('datasets/height-age-weight.csv')\n",
    "\n",
    "dataframe\n",
    "\n",
    "#<xml xmlns=\"https://developers.google.com/blockly/xml\"><variables><variable id=\"t[n^Fcp7,s93E17ZZ9J6\">dataframe</variable><variable id=\"i!#]:2XI=^qLb$e.|iwo\">pd</variable></variables><block type=\"variables_set\" id=\"r],|2vIV^N=z3?l0hFT?\" x=\"12\" y=\"214\"><field name=\"VAR\" id=\"t[n^Fcp7,s93E17ZZ9J6\">dataframe</field><value name=\"VALUE\"><block type=\"varDoMethod\" id=\"0bf2,0hgIs8bO;HK_m*O\"><field name=\"VAR\" id=\"i!#]:2XI=^qLb$e.|iwo\">pd</field><field name=\"MEMBER\">read_csv</field><data>pd:read_csv</data><value name=\"INPUT\"><block type=\"text\" id=\"`Rzjw8PmU[oj-92Vpe7V\"><field name=\"TEXT\">datasets/height-age-weight.csv</field></block></value></block></value></block><block type=\"variables_get\" id=\"67Xno.B#_5#5Ekhvod.[\" x=\"8\" y=\"282\"><field name=\"VAR\" id=\"t[n^Fcp7,s93E17ZZ9J6\">dataframe</field></block></xml>"
   ]
  },
  {
   "cell_type": "markdown",
   "metadata": {},
   "source": [
    "The output is the same as before - the only difference is that we've read the csv and stored the data in the `dataframe` variable, so we will use the `dataframe` variable whenever we want to work with the data."
   ]
  },
  {
   "cell_type": "markdown",
   "metadata": {},
   "source": [
    "<div class=\"alert alert-danger\">\n",
    "    \n",
    "**Condition alternative instructions: Self-explanation**\n",
    "\n",
    "Click here to see a self-explanation (plays video or audio clip going through each token in code: what is it and what does it do)\n",
    "    \n",
    "</div>"
   ]
  },
  {
   "cell_type": "markdown",
   "metadata": {},
   "source": [
    "<div class=\"alert alert-warning\">\n",
    "    \n",
    "**Condition alternative instructions: Goal structure labels**\n",
    "\n",
    "### Select rows from a dataframe by position\n",
    "   \n",
    "</div>"
   ]
  },
  {
   "cell_type": "markdown",
   "metadata": {},
   "source": [
    "There are many things we can do with dataframes.\n",
    "One thing we can do is get specific rows.\n",
    "\n",
    "<div class=\"alert alert-info\">\n",
    "    \n",
    "**Condition alternative instructions**\n",
    "- Blocks\n",
    "    \n",
    "    Click here to see how to do this in Blockly (shows video or gif sequence)\n",
    "    \n",
    "- No blocks\n",
    "    \n",
    "    Type into the cell below:\n",
    "    \n",
    "    ```\n",
    "   dataframe[ : 1]\n",
    "    ```\n",
    "    \n",
    "</div>"
   ]
  },
  {
   "cell_type": "markdown",
   "metadata": {},
   "source": [
    "*Then &#9658; or Shift + Enter*"
   ]
  },
  {
   "cell_type": "code",
   "execution_count": 7,
   "metadata": {},
   "outputs": [
    {
     "data": {
      "text/html": [
       "<div>\n",
       "<style scoped>\n",
       "    .dataframe tbody tr th:only-of-type {\n",
       "        vertical-align: middle;\n",
       "    }\n",
       "\n",
       "    .dataframe tbody tr th {\n",
       "        vertical-align: top;\n",
       "    }\n",
       "\n",
       "    .dataframe thead th {\n",
       "        text-align: right;\n",
       "    }\n",
       "</style>\n",
       "<table border=\"1\" class=\"dataframe\">\n",
       "  <thead>\n",
       "    <tr style=\"text-align: right;\">\n",
       "      <th></th>\n",
       "      <th>Height</th>\n",
       "      <th>Age</th>\n",
       "      <th>Weight</th>\n",
       "    </tr>\n",
       "  </thead>\n",
       "  <tbody>\n",
       "    <tr>\n",
       "      <th>0</th>\n",
       "      <td>161</td>\n",
       "      <td>50</td>\n",
       "      <td>53</td>\n",
       "    </tr>\n",
       "  </tbody>\n",
       "</table>\n",
       "</div>"
      ],
      "text/plain": [
       "   Height  Age  Weight\n",
       "0     161   50      53"
      ]
     },
     "execution_count": 7,
     "metadata": {},
     "output_type": "execute_result"
    }
   ],
   "source": [
    "dataframe[ : 1]\n",
    "\n",
    "#<xml xmlns=\"https://developers.google.com/blockly/xml\"><variables><variable id=\"t[n^Fcp7,s93E17ZZ9J6\">dataframe</variable></variables><block type=\"lists_getSublist\" id=\"5hFiqAq|QPxp%Xc:h/@A\" x=\"8\" y=\"518\"><mutation at1=\"false\" at2=\"true\"></mutation><field name=\"WHERE1\">FIRST</field><field name=\"WHERE2\">FROM_START</field><value name=\"LIST\"><block type=\"variables_get\" id=\"Y`nWHnCXvg4!GpZ![Z8S\"><field name=\"VAR\" id=\"t[n^Fcp7,s93E17ZZ9J6\">dataframe</field></block></value><value name=\"AT2\"><block type=\"math_number\" id=\"D1[i#!$i}_h;`?.h;x*w\"><field name=\"NUM\">1</field></block></value></block></xml>"
   ]
  },
  {
   "cell_type": "markdown",
   "metadata": {},
   "source": [
    "As you can see, the output is only the first row of the dataframe."
   ]
  },
  {
   "cell_type": "markdown",
   "metadata": {},
   "source": [
    "<div class=\"alert alert-danger\">\n",
    "    \n",
    "**Condition alternative instructions: Self-explanation**\n",
    "\n",
    "Click here to see a self-explanation (plays video or audio clip going through each token in code: what is it and what does it do)\n",
    "    \n",
    "</div>"
   ]
  },
  {
   "cell_type": "markdown",
   "metadata": {},
   "source": [
    "Try it again in the cell below, but this time, change the `1` to a `2`"
   ]
  },
  {
   "cell_type": "markdown",
   "metadata": {},
   "source": [
    "*Then &#9658; or Shift + Enter*"
   ]
  },
  {
   "cell_type": "code",
   "execution_count": 8,
   "metadata": {},
   "outputs": [
    {
     "data": {
      "text/html": [
       "<div>\n",
       "<style scoped>\n",
       "    .dataframe tbody tr th:only-of-type {\n",
       "        vertical-align: middle;\n",
       "    }\n",
       "\n",
       "    .dataframe tbody tr th {\n",
       "        vertical-align: top;\n",
       "    }\n",
       "\n",
       "    .dataframe thead th {\n",
       "        text-align: right;\n",
       "    }\n",
       "</style>\n",
       "<table border=\"1\" class=\"dataframe\">\n",
       "  <thead>\n",
       "    <tr style=\"text-align: right;\">\n",
       "      <th></th>\n",
       "      <th>Height</th>\n",
       "      <th>Age</th>\n",
       "      <th>Weight</th>\n",
       "    </tr>\n",
       "  </thead>\n",
       "  <tbody>\n",
       "    <tr>\n",
       "      <th>0</th>\n",
       "      <td>161</td>\n",
       "      <td>50</td>\n",
       "      <td>53</td>\n",
       "    </tr>\n",
       "    <tr>\n",
       "      <th>1</th>\n",
       "      <td>161</td>\n",
       "      <td>17</td>\n",
       "      <td>53</td>\n",
       "    </tr>\n",
       "  </tbody>\n",
       "</table>\n",
       "</div>"
      ],
      "text/plain": [
       "   Height  Age  Weight\n",
       "0     161   50      53\n",
       "1     161   17      53"
      ]
     },
     "execution_count": 8,
     "metadata": {},
     "output_type": "execute_result"
    }
   ],
   "source": [
    "dataframe[ : 2]\n",
    "\n",
    "#<xml xmlns=\"https://developers.google.com/blockly/xml\"><variables><variable id=\"t[n^Fcp7,s93E17ZZ9J6\">dataframe</variable></variables><block type=\"lists_getSublist\" id=\"J=Y2q,G9vz$#fGJl6Et=\" x=\"8\" y=\"518\"><mutation at1=\"false\" at2=\"true\"></mutation><field name=\"WHERE1\">FIRST</field><field name=\"WHERE2\">FROM_START</field><value name=\"LIST\"><block type=\"variables_get\" id=\"`pG,vo{P(1~U+ZtKB-Zr\"><field name=\"VAR\" id=\"t[n^Fcp7,s93E17ZZ9J6\">dataframe</field></block></value><value name=\"AT2\"><block type=\"math_number\" id=\"n+8Lq=-557|wZ@WBd}%l\"><field name=\"NUM\">2</field></block></value></block></xml>"
   ]
  },
  {
   "cell_type": "markdown",
   "metadata": {},
   "source": [
    "Now the output is the first two rows of the dataframe.\n",
    "We could get arbitrary rows of the dataframe by starting at a different number and ending at a different number.\n",
    "Sometimes people call this a **slice**."
   ]
  },
  {
   "cell_type": "markdown",
   "metadata": {},
   "source": [
    "<div class=\"alert alert-danger\">\n",
    "    \n",
    "**Condition alternative instructions: Self-explanation**\n",
    "\n",
    "Click here to see a self-explanation (plays video or audio clip going through each token in code: what is it and what does it do)\n",
    "    \n",
    "</div>"
   ]
  },
  {
   "cell_type": "markdown",
   "metadata": {},
   "source": [
    "<div class=\"alert alert-warning\">\n",
    "    \n",
    "**Condition alternative instructions: Goal structure labels**\n",
    "\n",
    "### Select columns from a dataframe by name\n",
    "   \n",
    "</div>"
   ]
  },
  {
   "cell_type": "markdown",
   "metadata": {},
   "source": [
    "We can get a column of the dataframe by using the name of the variable for that column.\n",
    "Before we go any further, let's step back for a second to talk about **lists**.\n",
    "\n",
    "We can think of a dataframe in two ways:\n",
    "\n",
    "- A list of rows\n",
    "- A list of columns\n",
    "\n",
    "We just saw the list of rows way.\n",
    "So why are columns any different?\n",
    "The difference is that our columns have variable names, and we often want to refer to columns using those names.\n",
    "For example, we want to say something like \"give me the Age column\" instead of \"give me column 2.\"\n",
    "\n",
    "Let's make a list from scratch to illustrate this."
   ]
  },
  {
   "cell_type": "markdown",
   "metadata": {},
   "source": [
    "<div class=\"alert alert-info\">\n",
    "    \n",
    "**Condition alternative instructions**\n",
    "- Blocks\n",
    "    \n",
    "    Click here to see how to do this in Blockly (shows video or gif sequence)\n",
    "    \n",
    "- No blocks\n",
    "    \n",
    "    Type into the cell below:\n",
    "    \n",
    "    ```\n",
    "   ['Height']\n",
    "    ```\n",
    "    \n",
    "</div>"
   ]
  },
  {
   "cell_type": "markdown",
   "metadata": {},
   "source": [
    "Now execute the cell (scroll up if you need a reminder how)."
   ]
  },
  {
   "cell_type": "code",
   "execution_count": 9,
   "metadata": {},
   "outputs": [
    {
     "data": {
      "text/plain": [
       "['Height']"
      ]
     },
     "execution_count": 9,
     "metadata": {},
     "output_type": "execute_result"
    }
   ],
   "source": [
    "['Height']\n",
    "\n",
    "#<xml xmlns=\"https://developers.google.com/blockly/xml\"><block type=\"lists_create_with\" id=\"}?PFK8{][wK}l+_/Dyr{\" x=\"213\" y=\"343\"><mutation items=\"1\"></mutation><value name=\"ADD0\"><block type=\"text\" id=\"C=wFe;_vf~B$H?gZl~!V\"><field name=\"TEXT\">Height</field></block></value></block></xml>"
   ]
  },
  {
   "cell_type": "markdown",
   "metadata": {},
   "source": [
    "This is a list with one thing inside it, `\"Height\"`.\n",
    "Lists can have multiple things inside them, making lists a container for other variables."
   ]
  },
  {
   "cell_type": "markdown",
   "metadata": {},
   "source": [
    "<div class=\"alert alert-danger\">\n",
    "    \n",
    "**Condition alternative instructions: Self-explanation**\n",
    "\n",
    "Click here to see a self-explanation (plays video or audio clip going through each token in code: what is it and what does it do)\n",
    "    \n",
    "</div>"
   ]
  },
  {
   "cell_type": "markdown",
   "metadata": {},
   "source": [
    "Let's use a list to get a column from the dataframe."
   ]
  },
  {
   "cell_type": "markdown",
   "metadata": {},
   "source": [
    "<div class=\"alert alert-info\">\n",
    "    \n",
    "**Condition alternative instructions**\n",
    "- Blocks\n",
    "    \n",
    "    Click here to see how to do this in Blockly (shows video or gif sequence)\n",
    "    \n",
    "- No blocks\n",
    "    \n",
    "    Type into the cell below:\n",
    "    \n",
    "    ```\n",
    "    dataframe[['Height']]\n",
    "    ```\n",
    "    \n",
    "</div>"
   ]
  },
  {
   "cell_type": "markdown",
   "metadata": {},
   "source": [
    "And run it."
   ]
  },
  {
   "cell_type": "code",
   "execution_count": 10,
   "metadata": {},
   "outputs": [
    {
     "data": {
      "text/html": [
       "<div>\n",
       "<style scoped>\n",
       "    .dataframe tbody tr th:only-of-type {\n",
       "        vertical-align: middle;\n",
       "    }\n",
       "\n",
       "    .dataframe tbody tr th {\n",
       "        vertical-align: top;\n",
       "    }\n",
       "\n",
       "    .dataframe thead th {\n",
       "        text-align: right;\n",
       "    }\n",
       "</style>\n",
       "<table border=\"1\" class=\"dataframe\">\n",
       "  <thead>\n",
       "    <tr style=\"text-align: right;\">\n",
       "      <th></th>\n",
       "      <th>Height</th>\n",
       "    </tr>\n",
       "  </thead>\n",
       "  <tbody>\n",
       "    <tr>\n",
       "      <th>0</th>\n",
       "      <td>161</td>\n",
       "    </tr>\n",
       "    <tr>\n",
       "      <th>1</th>\n",
       "      <td>161</td>\n",
       "    </tr>\n",
       "    <tr>\n",
       "      <th>2</th>\n",
       "      <td>155</td>\n",
       "    </tr>\n",
       "    <tr>\n",
       "      <th>3</th>\n",
       "      <td>180</td>\n",
       "    </tr>\n",
       "    <tr>\n",
       "      <th>4</th>\n",
       "      <td>186</td>\n",
       "    </tr>\n",
       "  </tbody>\n",
       "</table>\n",
       "</div>"
      ],
      "text/plain": [
       "   Height\n",
       "0     161\n",
       "1     161\n",
       "2     155\n",
       "3     180\n",
       "4     186"
      ]
     },
     "execution_count": 10,
     "metadata": {},
     "output_type": "execute_result"
    }
   ],
   "source": [
    "dataframe[['Height']]\n",
    "\n",
    "#<xml xmlns=\"https://developers.google.com/blockly/xml\"><variables><variable id=\"t[n^Fcp7,s93E17ZZ9J6\">dataframe</variable></variables><block type=\"indexer\" id=\"ZdwM_nb6yN19P)R7!QRn\" x=\"8\" y=\"300\"><field name=\"VAR\" id=\"t[n^Fcp7,s93E17ZZ9J6\">dataframe</field><value name=\"INDEX\"><block type=\"lists_create_with\" id=\"(ZoPs6H[04~zI%%oztG{\"><mutation items=\"1\"></mutation><value name=\"ADD0\"><block type=\"text\" id=\"#HR[cin?z#YSEvCnxdqv\"><field name=\"TEXT\">Height</field></block></value></block></value></block></xml>"
   ]
  },
  {
   "cell_type": "markdown",
   "metadata": {},
   "source": [
    "<div class=\"alert alert-danger\">\n",
    "    \n",
    "**Condition alternative instructions: Self-explanation**\n",
    "\n",
    "Click here to see a self-explanation (plays video or audio clip going through each token in code: what is it and what does it do)\n",
    "    \n",
    "</div>"
   ]
  },
  {
   "cell_type": "markdown",
   "metadata": {},
   "source": [
    "We can get more than one column by adding another element to the list. "
   ]
  },
  {
   "cell_type": "markdown",
   "metadata": {},
   "source": [
    "<div class=\"alert alert-info\">\n",
    "    \n",
    "**Condition alternative instructions**\n",
    "- Blocks\n",
    "    \n",
    "    Click here to see how to do this in Blockly (shows video or gif sequence)\n",
    "    \n",
    "- No blocks\n",
    "    \n",
    "    Type into the cell below:\n",
    "    \n",
    "    ```\n",
    "    dataframe[['Height','Age']]\n",
    "    ```\n",
    "    \n",
    "</div>"
   ]
  },
  {
   "cell_type": "markdown",
   "metadata": {},
   "source": [
    "And run the cell (try Shift + Enter if you haven't tried it yet)."
   ]
  },
  {
   "cell_type": "code",
   "execution_count": 11,
   "metadata": {},
   "outputs": [
    {
     "data": {
      "text/html": [
       "<div>\n",
       "<style scoped>\n",
       "    .dataframe tbody tr th:only-of-type {\n",
       "        vertical-align: middle;\n",
       "    }\n",
       "\n",
       "    .dataframe tbody tr th {\n",
       "        vertical-align: top;\n",
       "    }\n",
       "\n",
       "    .dataframe thead th {\n",
       "        text-align: right;\n",
       "    }\n",
       "</style>\n",
       "<table border=\"1\" class=\"dataframe\">\n",
       "  <thead>\n",
       "    <tr style=\"text-align: right;\">\n",
       "      <th></th>\n",
       "      <th>Height</th>\n",
       "      <th>Age</th>\n",
       "    </tr>\n",
       "  </thead>\n",
       "  <tbody>\n",
       "    <tr>\n",
       "      <th>0</th>\n",
       "      <td>161</td>\n",
       "      <td>50</td>\n",
       "    </tr>\n",
       "    <tr>\n",
       "      <th>1</th>\n",
       "      <td>161</td>\n",
       "      <td>17</td>\n",
       "    </tr>\n",
       "    <tr>\n",
       "      <th>2</th>\n",
       "      <td>155</td>\n",
       "      <td>33</td>\n",
       "    </tr>\n",
       "    <tr>\n",
       "      <th>3</th>\n",
       "      <td>180</td>\n",
       "      <td>51</td>\n",
       "    </tr>\n",
       "    <tr>\n",
       "      <th>4</th>\n",
       "      <td>186</td>\n",
       "      <td>18</td>\n",
       "    </tr>\n",
       "  </tbody>\n",
       "</table>\n",
       "</div>"
      ],
      "text/plain": [
       "   Height  Age\n",
       "0     161   50\n",
       "1     161   17\n",
       "2     155   33\n",
       "3     180   51\n",
       "4     186   18"
      ]
     },
     "execution_count": 11,
     "metadata": {},
     "output_type": "execute_result"
    }
   ],
   "source": [
    "dataframe[['Height', 'Age']]\n",
    "\n",
    "#<xml xmlns=\"https://developers.google.com/blockly/xml\"><variables><variable id=\"t[n^Fcp7,s93E17ZZ9J6\">dataframe</variable></variables><block type=\"indexer\" id=\"oVNd/g7vyxV[^cAbT$JX\" x=\"8\" y=\"300\"><field name=\"VAR\" id=\"t[n^Fcp7,s93E17ZZ9J6\">dataframe</field><value name=\"INDEX\"><block type=\"lists_create_with\" id=\"^oGt7#=i@OMTRwaf:kdd\"><mutation items=\"2\"></mutation><value name=\"ADD0\"><block type=\"text\" id=\"=k__Y{.gxL5z.AJpll.A\"><field name=\"TEXT\">Height</field></block></value><value name=\"ADD1\"><block type=\"text\" id=\"uQyKHkAg(%zJh!AAX=[#\"><field name=\"TEXT\">Age</field></block></value></block></value></block></xml>"
   ]
  },
  {
   "cell_type": "markdown",
   "metadata": {},
   "source": [
    "<div class=\"alert alert-danger\">\n",
    "    \n",
    "**Condition alternative instructions: Self-explanation**\n",
    "\n",
    "Click here to see a self-explanation (plays video or audio clip going through each token in code: what is it and what does it do)\n",
    "    \n",
    "</div>"
   ]
  },
  {
   "cell_type": "markdown",
   "metadata": {},
   "source": [
    "To recap, dataframes are both lists of rows and lists of columns, and lists are themselves containers for other variables."
   ]
  },
  {
   "cell_type": "markdown",
   "metadata": {},
   "source": [
    "<div class=\"alert alert-warning\">\n",
    "    \n",
    "**Condition alternative instructions: Goal structure labels**\n",
    "\n",
    "### Select rows from a dataframe by value\n",
    "    \n",
    "</div>"
   ]
  },
  {
   "cell_type": "markdown",
   "metadata": {},
   "source": [
    "There are many, many things we can do with dataframes, but let's just talk about one more for now.\n",
    "\n",
    "We can select rows based on a value in a particular column:"
   ]
  },
  {
   "cell_type": "markdown",
   "metadata": {},
   "source": [
    "<div class=\"alert alert-info\">\n",
    "    \n",
    "**Condition alternative instructions**\n",
    "- Blocks\n",
    "    \n",
    "    Click here to see how to do this in Blockly (shows video or gif sequence)\n",
    "    \n",
    "- No blocks\n",
    "    \n",
    "    Type into the cell below:\n",
    "    \n",
    "    ```\n",
    "    dataframe[['Height']] > 161\n",
    "    ```\n",
    "    \n",
    "</div>"
   ]
  },
  {
   "cell_type": "markdown",
   "metadata": {},
   "source": [
    "Don't forget to run the cell!"
   ]
  },
  {
   "cell_type": "code",
   "execution_count": 21,
   "metadata": {},
   "outputs": [
    {
     "data": {
      "text/html": [
       "<div>\n",
       "<style scoped>\n",
       "    .dataframe tbody tr th:only-of-type {\n",
       "        vertical-align: middle;\n",
       "    }\n",
       "\n",
       "    .dataframe tbody tr th {\n",
       "        vertical-align: top;\n",
       "    }\n",
       "\n",
       "    .dataframe thead th {\n",
       "        text-align: right;\n",
       "    }\n",
       "</style>\n",
       "<table border=\"1\" class=\"dataframe\">\n",
       "  <thead>\n",
       "    <tr style=\"text-align: right;\">\n",
       "      <th></th>\n",
       "      <th>Height</th>\n",
       "    </tr>\n",
       "  </thead>\n",
       "  <tbody>\n",
       "    <tr>\n",
       "      <th>0</th>\n",
       "      <td>False</td>\n",
       "    </tr>\n",
       "    <tr>\n",
       "      <th>1</th>\n",
       "      <td>False</td>\n",
       "    </tr>\n",
       "    <tr>\n",
       "      <th>2</th>\n",
       "      <td>False</td>\n",
       "    </tr>\n",
       "    <tr>\n",
       "      <th>3</th>\n",
       "      <td>True</td>\n",
       "    </tr>\n",
       "    <tr>\n",
       "      <th>4</th>\n",
       "      <td>True</td>\n",
       "    </tr>\n",
       "  </tbody>\n",
       "</table>\n",
       "</div>"
      ],
      "text/plain": [
       "   Height\n",
       "0   False\n",
       "1   False\n",
       "2   False\n",
       "3    True\n",
       "4    True"
      ]
     },
     "execution_count": 21,
     "metadata": {},
     "output_type": "execute_result"
    }
   ],
   "source": [
    "dataframe[['Height']] > 161\n",
    "\n",
    "#<xml xmlns=\"https://developers.google.com/blockly/xml\"><variables><variable id=\"t[n^Fcp7,s93E17ZZ9J6\">dataframe</variable></variables><block type=\"logic_compare\" id=\"qQrZTcW1s7HG*o10Gj``\" x=\"137\" y=\"401\"><field name=\"OP\">GT</field><value name=\"A\"><block type=\"indexer\" id=\"0U9IAG=c-u94P1*VU#kS\"><field name=\"VAR\" id=\"t[n^Fcp7,s93E17ZZ9J6\">dataframe</field><value name=\"INDEX\"><block type=\"lists_create_with\" id=\"te:THQ;2[5,iopA6[=Wx\"><mutation items=\"1\"></mutation><value name=\"ADD0\"><block type=\"text\" id=\"h943d?3yf{eMGb[YL%8.\"><field name=\"TEXT\">Height</field></block></value></block></value></block></value><value name=\"B\"><block type=\"math_number\" id=\"4U%z;v3o#Th]8AKAWIwi\"><field name=\"NUM\">161</field></block></value></block></xml>"
   ]
  },
  {
   "cell_type": "markdown",
   "metadata": {},
   "source": [
    "The resulting column is `True` or `False` depending on whether the value of `Height` was above 161 or not (notice a few were exactly equal to 161, so they weren't greater)."
   ]
  },
  {
   "cell_type": "markdown",
   "metadata": {},
   "source": [
    "<div class=\"alert alert-danger\">\n",
    "    \n",
    "**Condition alternative instructions: Self-explanation**\n",
    "\n",
    "Click here to see a self-explanation (plays video or audio clip going through each token in code: what is it and what does it do)\n",
    "    \n",
    "</div>"
   ]
  },
  {
   "cell_type": "markdown",
   "metadata": {},
   "source": [
    "What we're about to do next is magical."
   ]
  },
  {
   "cell_type": "markdown",
   "metadata": {},
   "source": [
    "<div class=\"alert alert-info\">\n",
    "    \n",
    "**Condition alternative instructions**\n",
    "- Blocks\n",
    "    \n",
    "    Click here to see how to do this in Blockly (shows video or gif sequence)\n",
    "    \n",
    "- No blocks\n",
    "    \n",
    "    Type into the cell below:\n",
    "    \n",
    "    ```\n",
    "    dataframe[dataframe['Height'] > 161]\n",
    "    ```\n",
    "    \n",
    "</div>"
   ]
  },
  {
   "cell_type": "markdown",
   "metadata": {},
   "source": [
    "And run it!"
   ]
  },
  {
   "cell_type": "code",
   "execution_count": 12,
   "metadata": {},
   "outputs": [
    {
     "data": {
      "text/html": [
       "<div>\n",
       "<style scoped>\n",
       "    .dataframe tbody tr th:only-of-type {\n",
       "        vertical-align: middle;\n",
       "    }\n",
       "\n",
       "    .dataframe tbody tr th {\n",
       "        vertical-align: top;\n",
       "    }\n",
       "\n",
       "    .dataframe thead th {\n",
       "        text-align: right;\n",
       "    }\n",
       "</style>\n",
       "<table border=\"1\" class=\"dataframe\">\n",
       "  <thead>\n",
       "    <tr style=\"text-align: right;\">\n",
       "      <th></th>\n",
       "      <th>Height</th>\n",
       "      <th>Age</th>\n",
       "      <th>Weight</th>\n",
       "    </tr>\n",
       "  </thead>\n",
       "  <tbody>\n",
       "    <tr>\n",
       "      <th>3</th>\n",
       "      <td>180</td>\n",
       "      <td>51</td>\n",
       "      <td>84</td>\n",
       "    </tr>\n",
       "    <tr>\n",
       "      <th>4</th>\n",
       "      <td>186</td>\n",
       "      <td>18</td>\n",
       "      <td>88</td>\n",
       "    </tr>\n",
       "  </tbody>\n",
       "</table>\n",
       "</div>"
      ],
      "text/plain": [
       "   Height  Age  Weight\n",
       "3     180   51      84\n",
       "4     186   18      88"
      ]
     },
     "execution_count": 12,
     "metadata": {},
     "output_type": "execute_result"
    }
   ],
   "source": [
    "dataframe[(dataframe['Height'] > 161)]\n",
    "\n",
    "#<xml xmlns=\"https://developers.google.com/blockly/xml\"><variables><variable id=\"t[n^Fcp7,s93E17ZZ9J6\">dataframe</variable></variables><block type=\"indexer\" id=\"Y*eD.jv!V*/5.i:+x([t\" x=\"19\" y=\"390\"><field name=\"VAR\" id=\"t[n^Fcp7,s93E17ZZ9J6\">dataframe</field><value name=\"INDEX\"><block type=\"logic_compare\" id=\"FbNIQ=Q,*rY%1.XvHA^q\"><field name=\"OP\">GT</field><value name=\"A\"><block type=\"indexer\" id=\"d3u5qTTbrdfW-F2:-QR2\"><field name=\"VAR\" id=\"t[n^Fcp7,s93E17ZZ9J6\">dataframe</field><value name=\"INDEX\"><block type=\"text\" id=\"rX][Xdf,hW{pZ4}3u$Sq\"><field name=\"TEXT\">Height</field></block></value></block></value><value name=\"B\"><block type=\"math_number\" id=\"V6U?d%_d279v507W%Hw6\"><field name=\"NUM\">161</field></block></value></block></value></block></xml>"
   ]
  },
  {
   "cell_type": "markdown",
   "metadata": {},
   "source": [
    "The dataframe only kept the rows for which `Height` was > 161, i.e. those for which this was `True`."
   ]
  },
  {
   "cell_type": "markdown",
   "metadata": {},
   "source": [
    "<div class=\"alert alert-danger\">\n",
    "    \n",
    "**Condition alternative instructions: Self-explanation**\n",
    "\n",
    "Click here to see a self-explanation (plays video or audio clip going through each token in code: what is it and what does it do)\n",
    "    \n",
    "</div>"
   ]
  }
 ],
 "metadata": {
  "kernelspec": {
   "display_name": "xpython",
   "language": "python",
   "name": "xpython"
  },
  "language_info": {
   "file_extension": ".py",
   "mimetype": "text/x-python",
   "name": "python",
   "version": "3.7.6"
  }
 },
 "nbformat": 4,
 "nbformat_minor": 4
}
