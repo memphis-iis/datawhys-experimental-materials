{
 "cells": [
  {
   "cell_type": "markdown",
   "metadata": {
    "deletable": false,
    "editable": false
   },
   "source": [
    "Copyright 2020 Andrew M. Olney and made available under [CC BY-SA](https://creativecommons.org/licenses/by-sa/4.0) for text and [Apache-2.0](http://www.apache.org/licenses/LICENSE-2.0) for code."
   ]
  },
  {
   "cell_type": "markdown",
   "metadata": {},
   "source": [
    "## Background\n",
    "\n",
    "We will be working with data on the effect of vitamin C supplements on guinea pig tooth growth. The data has three variables:\n",
    "\n",
    "- `len`: tooth length in millimeters\n",
    "- `supp`: vitamin C source, either VC or OJ\n",
    "- `dose`: dose in milligrams/day, either 0.5, 1, or 2\n",
    "\n",
    "In this session, you will solve several problems using this data."
   ]
  },
  {
   "cell_type": "markdown",
   "metadata": {},
   "source": [
    "### Read CSV into a dataframe"
   ]
  },
  {
   "cell_type": "markdown",
   "metadata": {},
   "source": [
    "Import the `pandas` library, which lets us work with dataframes."
   ]
  },
  {
   "cell_type": "code",
   "execution_count": null,
   "metadata": {},
   "outputs": [],
   "source": [
    "import pandas as pd\n",
    "\n",
    "#<xml xmlns=\"https://developers.google.com/blockly/xml\"><variables><variable id=\"i!#]:2XI=^qLb$e.|iwo\">pd</variable></variables><block type=\"importAs\" id=\"8u3elQqk_!6!WoHrlj}e\" x=\"73\" y=\"63\"><field name=\"libraryName\">pandas</field><field name=\"libraryAlias\" id=\"i!#]:2XI=^qLb$e.|iwo\">pd</field></block></xml>"
   ]
  },
  {
   "cell_type": "markdown",
   "metadata": {},
   "source": [
    "Load a dataframe with the data in \"datasets/toothgrowth.csv\" and display it."
   ]
  },
  {
   "cell_type": "code",
   "execution_count": null,
   "metadata": {},
   "outputs": [],
   "source": [
    "dataframe = pd.read_csv('datasets/toothgrowth.csv')\n",
    "\n",
    "dataframe\n",
    "\n",
    "#<xml xmlns=\"https://developers.google.com/blockly/xml\"><variables><variable id=\"t[n^Fcp7,s93E17ZZ9J6\">dataframe</variable><variable id=\"i!#]:2XI=^qLb$e.|iwo\">pd</variable></variables><block type=\"variables_set\" id=\"YMNSvjU:9aS0`rADBobh\" x=\"29\" y=\"215\"><field name=\"VAR\" id=\"t[n^Fcp7,s93E17ZZ9J6\">dataframe</field><value name=\"VALUE\"><block type=\"varDoMethod\" id=\"h[BIiU^0[[vbD`zoBn6+\"><field name=\"VAR\" id=\"i!#]:2XI=^qLb$e.|iwo\">pd</field><field name=\"MEMBER\">read_csv</field><data>pd:read_csv</data><value name=\"INPUT\"><block type=\"text\" id=\"HyH?(x3/MuPXE`T5;)[@\"><field name=\"TEXT\">datasets/toothgrowth.csv</field></block></value></block></value></block><block type=\"variables_get\" id=\"uS,Sc{|xLGBqCK`F3*-*\" x=\"8\" y=\"300\"><field name=\"VAR\" id=\"t[n^Fcp7,s93E17ZZ9J6\">dataframe</field></block></xml>"
   ]
  },
  {
   "cell_type": "markdown",
   "metadata": {},
   "source": [
    "### Select rows from a dataframe by position"
   ]
  },
  {
   "cell_type": "markdown",
   "metadata": {},
   "source": [
    "Show the first 4 rows of the data."
   ]
  },
  {
   "cell_type": "code",
   "execution_count": null,
   "metadata": {},
   "outputs": [],
   "source": [
    "dataframe[ : 4]\n",
    "\n",
    "#<xml xmlns=\"https://developers.google.com/blockly/xml\"><variables><variable id=\"t[n^Fcp7,s93E17ZZ9J6\">dataframe</variable></variables><block type=\"lists_getSublist\" id=\"5hFiqAq|QPxp%Xc:h/@A\" x=\"8\" y=\"518\"><mutation at1=\"false\" at2=\"true\"></mutation><field name=\"WHERE1\">FIRST</field><field name=\"WHERE2\">FROM_START</field><value name=\"LIST\"><block type=\"variables_get\" id=\"Y`nWHnCXvg4!GpZ![Z8S\"><field name=\"VAR\" id=\"t[n^Fcp7,s93E17ZZ9J6\">dataframe</field></block></value><value name=\"AT2\"><block type=\"math_number\" id=\"D1[i#!$i}_h;`?.h;x*w\"><field name=\"NUM\">4</field></block></value></block></xml>"
   ]
  },
  {
   "cell_type": "markdown",
   "metadata": {},
   "source": [
    "### Select columns from a dataframe by name"
   ]
  },
  {
   "cell_type": "markdown",
   "metadata": {},
   "source": [
    "Show the middle column of the data."
   ]
  },
  {
   "cell_type": "code",
   "execution_count": null,
   "metadata": {},
   "outputs": [],
   "source": [
    "dataframe[['supp']]\n",
    "\n",
    "#<xml xmlns=\"https://developers.google.com/blockly/xml\"><variables><variable id=\"t[n^Fcp7,s93E17ZZ9J6\">dataframe</variable></variables><block type=\"indexer\" id=\"oVNd/g7vyxV[^cAbT$JX\" x=\"8\" y=\"300\"><field name=\"VAR\" id=\"t[n^Fcp7,s93E17ZZ9J6\">dataframe</field><value name=\"INDEX\"><block type=\"lists_create_with\" id=\"^oGt7#=i@OMTRwaf:kdd\"><mutation items=\"1\"></mutation><value name=\"ADD0\"><block type=\"text\" id=\"=k__Y{.gxL5z.AJpll.A\"><field name=\"TEXT\">supp</field></block></value></block></value></block></xml>"
   ]
  },
  {
   "cell_type": "markdown",
   "metadata": {},
   "source": [
    "### Select rows from a dataframe by value"
   ]
  },
  {
   "cell_type": "markdown",
   "metadata": {},
   "source": [
    "Show the rows where `dose` is more than .5."
   ]
  },
  {
   "cell_type": "code",
   "execution_count": null,
   "metadata": {},
   "outputs": [],
   "source": [
    "dataframe[(dataframe['dose'] > 0.5)]\n",
    "\n",
    "#<xml xmlns=\"https://developers.google.com/blockly/xml\"><variables><variable id=\"t[n^Fcp7,s93E17ZZ9J6\">dataframe</variable></variables><block type=\"indexer\" id=\"Y*eD.jv!V*/5.i:+x([t\" x=\"19\" y=\"390\"><field name=\"VAR\" id=\"t[n^Fcp7,s93E17ZZ9J6\">dataframe</field><value name=\"INDEX\"><block type=\"logic_compare\" id=\"FbNIQ=Q,*rY%1.XvHA^q\"><field name=\"OP\">GT</field><value name=\"A\"><block type=\"indexer\" id=\"d3u5qTTbrdfW-F2:-QR2\"><field name=\"VAR\" id=\"t[n^Fcp7,s93E17ZZ9J6\">dataframe</field><value name=\"INDEX\"><block type=\"text\" id=\"rX][Xdf,hW{pZ4}3u$Sq\"><field name=\"TEXT\">dose</field></block></value></block></value><value name=\"B\"><block type=\"math_number\" id=\"aXS$Sq^@JUEH!ZY*Hg+r\"><field name=\"NUM\">0.5</field></block></value></block></value></block></xml>"
   ]
  }
 ],
 "metadata": {
  "kernelspec": {
   "display_name": "xpython",
   "language": "python",
   "name": "xpython"
  },
  "language_info": {
   "file_extension": ".py",
   "mimetype": "text/x-python",
   "name": "python",
   "version": "3.7.6"
  }
 },
 "nbformat": 4,
 "nbformat_minor": 4
}
